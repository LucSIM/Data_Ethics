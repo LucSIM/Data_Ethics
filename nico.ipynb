{
 "cells": [
  {
   "cell_type": "raw",
   "metadata": {},
   "source": [
    "Compare Chicago and scientists data\n",
    "Based on a score, police forecasts\n",
    "Explain the dataset, if the algorithm has bias\n",
    "Race"
   ]
  },
  {
   "cell_type": "code",
   "execution_count": 1,
   "metadata": {},
   "outputs": [],
   "source": [
    "import pandas as pd"
   ]
  },
  {
   "cell_type": "code",
   "execution_count": 2,
   "metadata": {},
   "outputs": [
    {
     "name": "stderr",
     "output_type": "stream",
     "text": [
      "/Users/nico/anaconda3/lib/python3.6/site-packages/IPython/core/interactiveshell.py:2728: DtypeWarning: Columns (47) have mixed types. Specify dtype option on import or set low_memory=False.\n",
      "  interactivity=interactivity, compiler=compiler, result=result)\n"
     ]
    }
   ],
   "source": [
    "df = pd.read_csv(\"Strategic_Subject_List.csv\")"
   ]
  },
  {
   "cell_type": "code",
   "execution_count": 3,
   "metadata": {},
   "outputs": [
    {
     "data": {
      "text/plain": [
       "Index(['SSL SCORE', 'PREDICTOR RAT AGE AT LATEST ARREST',\n",
       "       'PREDICTOR RAT VICTIM SHOOTING INCIDENTS',\n",
       "       'PREDICTOR RAT VICTIM BATTERY OR ASSAULT',\n",
       "       'PREDICTOR RAT ARRESTS VIOLENT OFFENSES',\n",
       "       'PREDICTOR RAT GANG AFFILIATION', 'PREDICTOR RAT NARCOTIC ARRESTS',\n",
       "       'PREDICTOR RAT TREND IN CRIMINAL ACTIVITY', 'PREDICTOR RAT UUW ARRESTS',\n",
       "       'SEX CODE CD', 'RACE CODE CD', 'WEAPON I', 'DRUG I', 'AGE GROUP',\n",
       "       'AGE TO', 'STOP ORDER NO', 'PAROLEE I', 'LATEST DATE', 'LATEST DIST',\n",
       "       'MAJORITY DIST', 'DLST', 'LATEST DIST RES', 'WEAPONS ARR CNT',\n",
       "       'LATEST WEAPON ARR DATE', 'NARCOTICS ARR CNT',\n",
       "       'LATEST NARCOTIC ARR DATE', 'IDOC RES CITY', 'IDOC RES STATE CODE',\n",
       "       'IDOC RES ZIP CODE', 'IDOC CPD DIST', 'CPD ARREST I',\n",
       "       'DOMESTIC ARR CNT', 'LATEST DOMESTIC ARR DATE', 'AGE CURR',\n",
       "       'SSL LAST PTV DATE', 'TRAP STATUS', 'RAW SSL SCORE', 'HEAT SCORE',\n",
       "       'RAW_HEAT_SCORE', 'STATUS I', 'PRE RAW HEAT SCORE', 'TRAP FLAGS',\n",
       "       'SSL FLAGS', 'LATITUDE', 'LONGITUDE', 'CENSUS TRACT', 'COMMUNITY AREA',\n",
       "       'LOCATION'],\n",
       "      dtype='object')"
      ]
     },
     "execution_count": 3,
     "metadata": {},
     "output_type": "execute_result"
    }
   ],
   "source": [
    "df.columns"
   ]
  },
  {
   "cell_type": "code",
   "execution_count": 4,
   "metadata": {},
   "outputs": [],
   "source": [
    "%matplotlib inline"
   ]
  },
  {
   "cell_type": "code",
   "execution_count": 5,
   "metadata": {},
   "outputs": [
    {
     "data": {
      "text/plain": [
       "RACE CODE CD\n",
       "BLK    207842\n",
       "WWH     99710\n",
       "WHI     82366\n",
       "API      4617\n",
       "WBH      1974\n",
       "U        1899\n",
       "I         276\n",
       "dtype: int64"
      ]
     },
     "execution_count": 5,
     "metadata": {},
     "output_type": "execute_result"
    }
   ],
   "source": [
    "df.groupby(\"RACE CODE CD\").size().sort_values(ascending=False)"
   ]
  },
  {
   "cell_type": "code",
   "execution_count": 6,
   "metadata": {},
   "outputs": [
    {
     "data": {
      "text/plain": [
       "SSL SCORE                                       500\n",
       "PREDICTOR RAT AGE AT LATEST ARREST            20-30\n",
       "PREDICTOR RAT VICTIM SHOOTING INCIDENTS           0\n",
       "PREDICTOR RAT VICTIM BATTERY OR ASSAULT           1\n",
       "PREDICTOR RAT ARRESTS VIOLENT OFFENSES            4\n",
       "PREDICTOR RAT GANG AFFILIATION                    1\n",
       "PREDICTOR RAT NARCOTIC ARRESTS                    1\n",
       "PREDICTOR RAT TREND IN CRIMINAL ACTIVITY          1\n",
       "PREDICTOR RAT UUW ARRESTS                         1\n",
       "SEX CODE CD                                       M\n",
       "RACE CODE CD                                    BLK\n",
       "WEAPON I                                          Y\n",
       "DRUG I                                            N\n",
       "AGE GROUP                                     20-30\n",
       "AGE TO                                        20-30\n",
       "STOP ORDER NO                                   NaN\n",
       "PAROLEE I                                       NaN\n",
       "LATEST DATE                                    2015\n",
       "LATEST DIST                                      31\n",
       "MAJORITY DIST                                    24\n",
       "DLST                                            NaN\n",
       "LATEST DIST RES                                  31\n",
       "WEAPONS ARR CNT                                   1\n",
       "LATEST WEAPON ARR DATE                         2012\n",
       "NARCOTICS ARR CNT                               NaN\n",
       "LATEST NARCOTIC ARR DATE                        NaN\n",
       "IDOC RES CITY                                SKOKIE\n",
       "IDOC RES STATE CODE                              IL\n",
       "IDOC RES ZIP CODE                             60077\n",
       "IDOC CPD DIST                                   NaN\n",
       "CPD ARREST I                                      N\n",
       "DOMESTIC ARR CNT                                NaN\n",
       "LATEST DOMESTIC ARR DATE                        NaN\n",
       "AGE CURR                                      20-30\n",
       "SSL LAST PTV DATE                               NaN\n",
       "TRAP STATUS                                     NaN\n",
       "RAW SSL SCORE                               0.14196\n",
       "HEAT SCORE                                      500\n",
       "RAW_HEAT_SCORE                              0.14196\n",
       "STATUS I                                          Y\n",
       "PRE RAW HEAT SCORE                            14196\n",
       "TRAP FLAGS                                      NaN\n",
       "SSL FLAGS                                        24\n",
       "LATITUDE                                        NaN\n",
       "LONGITUDE                                       NaN\n",
       "CENSUS TRACT                                    NaN\n",
       "COMMUNITY AREA                                     \n",
       "LOCATION                                        NaN\n",
       "Name: 0, dtype: object"
      ]
     },
     "execution_count": 6,
     "metadata": {},
     "output_type": "execute_result"
    }
   ],
   "source": [
    "df.iloc[0]"
   ]
  },
  {
   "cell_type": "code",
   "execution_count": 7,
   "metadata": {},
   "outputs": [],
   "source": [
    "def plot_groupby(column):\n",
    "    print(df.groupby(column).size().plot(kind=\"bar\"))"
   ]
  },
  {
   "cell_type": "code",
   "execution_count": 8,
   "metadata": {},
   "outputs": [
    {
     "name": "stdout",
     "output_type": "stream",
     "text": [
      "AxesSubplot(0.125,0.125;0.775x0.755)\n"
     ]
    },
    {
     "data": {
      "image/png": "[encoded data removed]",
      "text/plain": [
       "<matplotlib.figure.Figure at 0x10642bc18>"
      ]
     },
     "metadata": {},
     "output_type": "display_data"
    }
   ],
   "source": [
    "plot_groupby(\"SEX CODE CD\")"
   ]
  },
  {
   "cell_type": "code",
   "execution_count": 9,
   "metadata": {},
   "outputs": [
    {
     "name": "stdout",
     "output_type": "stream",
     "text": [
      "AxesSubplot(0.125,0.125;0.775x0.755)\n"
     ]
    },
    {
     "data": {
      "image/png": "[encoded data removed]",
      "text/plain": [
       "<matplotlib.figure.Figure at 0x10a218240>"
      ]
     },
     "metadata": {},
     "output_type": "display_data"
    }
   ],
   "source": [
    "plot_groupby(\"RACE CODE CD\")"
   ]
  },
  {
   "cell_type": "code",
   "execution_count": 10,
   "metadata": {},
   "outputs": [
    {
     "name": "stdout",
     "output_type": "stream",
     "text": [
      "AxesSubplot(0.125,0.125;0.775x0.755)\n"
     ]
    },
    {
     "data": {
      "image/png": "[encoded data removed]",
      "text/plain": [
       "<matplotlib.figure.Figure at 0x10a218748>"
      ]
     },
     "metadata": {},
     "output_type": "display_data"
    }
   ],
   "source": [
    "plot_groupby(\"AGE GROUP\")"
   ]
  },
  {
   "cell_type": "code",
   "execution_count": 11,
   "metadata": {},
   "outputs": [
    {
     "data": {
      "text/plain": [
       "297591"
      ]
     },
     "execution_count": 11,
     "metadata": {},
     "output_type": "execute_result"
    }
   ],
   "source": [
    "len(df.dropna(thresh=27))"
   ]
  },
  {
   "cell_type": "code",
   "execution_count": 13,
   "metadata": {},
   "outputs": [],
   "source": [
    "df = df.dropna(thresh=27)"
   ]
  },
  {
   "cell_type": "code",
   "execution_count": 19,
   "metadata": {},
   "outputs": [
    {
     "name": "stdout",
     "output_type": "stream",
     "text": [
      "AxesSubplot(0.125,0.125;0.775x0.755)\n"
     ]
    },
    {
     "data": {
      "image/png": "[encoded data removed]",
      "text/plain": [
       "<matplotlib.figure.Figure at 0x10a8c2c50>"
      ]
     },
     "metadata": {},
     "output_type": "display_data"
    }
   ],
   "source": [
    "plot_groupby(df[\"AGE GROUP\"])"
   ]
  },
  {
   "cell_type": "code",
   "execution_count": 98,
   "metadata": {},
   "outputs": [],
   "source": [
    "from sklearn.linear_model import LinearRegression"
   ]
  },
  {
   "cell_type": "code",
   "execution_count": 20,
   "metadata": {},
   "outputs": [],
   "source": [
    "import statsmodels.formula.api as sm"
   ]
  },
  {
   "cell_type": "code",
   "execution_count": 25,
   "metadata": {},
   "outputs": [
    {
     "data": {
      "text/plain": [
       "['PREDICTOR RAT AGE AT LATEST ARREST',\n",
       " 'PREDICTOR RAT VICTIM SHOOTING INCIDENTS',\n",
       " 'PREDICTOR RAT VICTIM BATTERY OR ASSAULT',\n",
       " 'PREDICTOR RAT ARRESTS VIOLENT OFFENSES',\n",
       " 'PREDICTOR RAT GANG AFFILIATION',\n",
       " 'PREDICTOR RAT NARCOTIC ARRESTS',\n",
       " 'PREDICTOR RAT TREND IN CRIMINAL ACTIVITY',\n",
       " 'PREDICTOR RAT UUW ARRESTS',\n",
       " 'SEX CODE CD',\n",
       " 'RACE CODE CD',\n",
       " 'WEAPON I',\n",
       " 'DRUG I',\n",
       " 'AGE GROUP',\n",
       " 'AGE TO',\n",
       " 'STOP ORDER NO',\n",
       " 'PAROLEE I',\n",
       " 'LATEST DATE',\n",
       " 'LATEST DIST',\n",
       " 'MAJORITY DIST',\n",
       " 'DLST',\n",
       " 'LATEST DIST RES',\n",
       " 'WEAPONS ARR CNT',\n",
       " 'LATEST WEAPON ARR DATE',\n",
       " 'NARCOTICS ARR CNT',\n",
       " 'LATEST NARCOTIC ARR DATE',\n",
       " 'IDOC RES CITY',\n",
       " 'IDOC RES STATE CODE',\n",
       " 'IDOC RES ZIP CODE',\n",
       " 'IDOC CPD DIST',\n",
       " 'CPD ARREST I',\n",
       " 'DOMESTIC ARR CNT',\n",
       " 'LATEST DOMESTIC ARR DATE',\n",
       " 'AGE CURR',\n",
       " 'SSL LAST PTV DATE',\n",
       " 'TRAP STATUS',\n",
       " 'RAW SSL SCORE',\n",
       " 'HEAT SCORE',\n",
       " 'RAW_HEAT_SCORE',\n",
       " 'STATUS I',\n",
       " 'PRE RAW HEAT SCORE',\n",
       " 'TRAP FLAGS',\n",
       " 'SSL FLAGS',\n",
       " 'LATITUDE',\n",
       " 'LONGITUDE',\n",
       " 'CENSUS TRACT',\n",
       " 'COMMUNITY AREA',\n",
       " 'LOCATION']"
      ]
     },
     "execution_count": 25,
     "metadata": {},
     "output_type": "execute_result"
    }
   ],
   "source": [
    "list(df.columns)[1:]"
   ]
  },
  {
   "cell_type": "code",
   "execution_count": 30,
   "metadata": {},
   "outputs": [],
   "source": [
    "for elt in [elt for elt in list(df.columns)[1:]"
   ]
  },
  {
   "cell_type": "code",
   "execution_count": 41,
   "metadata": {},
   "outputs": [],
   "source": [
    "df.columns = [elt.replace(\" \", \"_\") for elt in list(df.columns)]"
   ]
  },
  {
   "cell_type": "code",
   "execution_count": 93,
   "metadata": {},
   "outputs": [],
   "source": [
    "formula = \"\"\n",
    "for elt in list(df.columns)[1:20]:\n",
    "    formula += elt + \" + \"\n",
    "formula = \"SSL_SCORE ~ \" + formula\n",
    "formula = formula[:-3]"
   ]
  },
  {
   "cell_type": "code",
   "execution_count": 94,
   "metadata": {},
   "outputs": [
    {
     "data": {
      "text/plain": [
       "'SSL_SCORE ~ PREDICTOR_RAT_AGE_AT_LATEST_ARREST + PREDICTOR_RAT_VICTIM_SHOOTING_INCIDENTS + PREDICTOR_RAT_VICTIM_BATTERY_OR_ASSAULT + PREDICTOR_RAT_ARRESTS_VIOLENT_OFFENSES + PREDICTOR_RAT_GANG_AFFILIATION + PREDICTOR_RAT_NARCOTIC_ARRESTS + PREDICTOR_RAT_TREND_IN_CRIMINAL_ACTIVITY + PREDICTOR_RAT_UUW_ARRESTS + SEX_CODE_CD + RACE_CODE_CD + WEAPON_I + DRUG_I + AGE_GROUP + AGE_TO + STOP_ORDER_NO + PAROLEE_I + LATEST_DATE + LATEST_DIST + MAJORITY_DIST'"
      ]
     },
     "execution_count": 94,
     "metadata": {},
     "output_type": "execute_result"
    }
   ],
   "source": [
    "formula"
   ]
  },
  {
   "cell_type": "code",
   "execution_count": 95,
   "metadata": {},
   "outputs": [],
   "source": [
    "result = sm.ols(formula=formula, data=df).fit()"
   ]
  },
  {
   "cell_type": "code",
   "execution_count": 96,
   "metadata": {},
   "outputs": [
    {
     "name": "stderr",
     "output_type": "stream",
     "text": [
      "/Users/nico/anaconda3/lib/python3.6/site-packages/statsmodels/base/model.py:1036: RuntimeWarning: invalid value encountered in true_divide\n",
      "  return self.params / self.bse\n",
      "/Users/nico/anaconda3/lib/python3.6/site-packages/scipy/stats/_distn_infrastructure.py:879: RuntimeWarning: invalid value encountered in greater\n",
      "  return (self.a < x) & (x < self.b)\n",
      "/Users/nico/anaconda3/lib/python3.6/site-packages/scipy/stats/_distn_infrastructure.py:879: RuntimeWarning: invalid value encountered in less\n",
      "  return (self.a < x) & (x < self.b)\n",
      "/Users/nico/anaconda3/lib/python3.6/site-packages/scipy/stats/_distn_infrastructure.py:1821: RuntimeWarning: invalid value encountered in less_equal\n",
      "  cond2 = cond0 & (x <= self.a)\n"
     ]
    },
    {
     "data": {
      "text/html": [
       "<table class=\"simpletable\">\n",
       "<caption>OLS Regression Results</caption>\n",
       "<tr>\n",
       "  <th>Dep. Variable:</th>        <td>SSL_SCORE</td>    <th>  R-squared:         </th> <td>   0.962</td>\n",
       "</tr>\n",
       "<tr>\n",
       "  <th>Model:</th>                   <td>OLS</td>       <th>  Adj. R-squared:    </th> <td>   0.953</td>\n",
       "</tr>\n",
       "<tr>\n",
       "  <th>Method:</th>             <td>Least Squares</td>  <th>  F-statistic:       </th> <td>   109.1</td>\n",
       "</tr>\n",
       "<tr>\n",
       "  <th>Date:</th>             <td>Fri, 12 Oct 2018</td> <th>  Prob (F-statistic):</th> <td>2.19e-62</td>\n",
       "</tr>\n",
       "<tr>\n",
       "  <th>Time:</th>                 <td>10:28:10</td>     <th>  Log-Likelihood:    </th> <td> -484.82</td>\n",
       "</tr>\n",
       "<tr>\n",
       "  <th>No. Observations:</th>      <td>   128</td>      <th>  AIC:               </th> <td>   1020.</td>\n",
       "</tr>\n",
       "<tr>\n",
       "  <th>Df Residuals:</th>          <td>   103</td>      <th>  BIC:               </th> <td>   1091.</td>\n",
       "</tr>\n",
       "<tr>\n",
       "  <th>Df Model:</th>              <td>    24</td>      <th>                     </th>     <td> </td>   \n",
       "</tr>\n",
       "<tr>\n",
       "  <th>Covariance Type:</th>      <td>nonrobust</td>    <th>                     </th>     <td> </td>   \n",
       "</tr>\n",
       "</table>\n",
       "<table class=\"simpletable\">\n",
       "<tr>\n",
       "                           <td></td>                             <th>coef</th>     <th>std err</th>      <th>t</th>      <th>P>|t|</th>  <th>[0.025</th>    <th>0.975]</th>  \n",
       "</tr>\n",
       "<tr>\n",
       "  <th>Intercept</th>                                          <td>-1.758e+04</td> <td> 2.69e+04</td> <td>   -0.655</td> <td> 0.514</td> <td>-7.08e+04</td> <td> 3.57e+04</td>\n",
       "</tr>\n",
       "<tr>\n",
       "  <th>PREDICTOR_RAT_AGE_AT_LATEST_ARREST[T.30-40]</th>        <td>   -0.0045</td> <td>   16.040</td> <td>   -0.000</td> <td> 1.000</td> <td>  -31.816</td> <td>   31.807</td>\n",
       "</tr>\n",
       "<tr>\n",
       "  <th>PREDICTOR_RAT_AGE_AT_LATEST_ARREST[T.40-50]</th>        <td>  -24.4892</td> <td>    1.263</td> <td>  -19.386</td> <td> 0.000</td> <td>  -26.995</td> <td>  -21.984</td>\n",
       "</tr>\n",
       "<tr>\n",
       "  <th>PREDICTOR_RAT_AGE_AT_LATEST_ARREST[T.50-60]</th>        <td>  -45.0248</td> <td>    2.691</td> <td>  -16.734</td> <td> 0.000</td> <td>  -50.361</td> <td>  -39.688</td>\n",
       "</tr>\n",
       "<tr>\n",
       "  <th>PREDICTOR_RAT_AGE_AT_LATEST_ARREST[T.60-70]</th>        <td>-8.725e-05</td> <td>    0.000</td> <td>   -0.655</td> <td> 0.514</td> <td>   -0.000</td> <td>    0.000</td>\n",
       "</tr>\n",
       "<tr>\n",
       "  <th>PREDICTOR_RAT_AGE_AT_LATEST_ARREST[T.70-80]</th>        <td> 8.966e-05</td> <td>    0.000</td> <td>    0.655</td> <td> 0.514</td> <td>   -0.000</td> <td>    0.000</td>\n",
       "</tr>\n",
       "<tr>\n",
       "  <th>PREDICTOR_RAT_AGE_AT_LATEST_ARREST[T.less than 20]</th> <td>   23.8795</td> <td>   14.177</td> <td>    1.684</td> <td> 0.095</td> <td>   -4.236</td> <td>   51.995</td>\n",
       "</tr>\n",
       "<tr>\n",
       "  <th>SEX_CODE_CD[T.M]</th>                                   <td>   16.0655</td> <td>    6.686</td> <td>    2.403</td> <td> 0.018</td> <td>    2.805</td> <td>   29.326</td>\n",
       "</tr>\n",
       "<tr>\n",
       "  <th>SEX_CODE_CD[T.X]</th>                                   <td>   34.3601</td> <td>   14.365</td> <td>    2.392</td> <td> 0.019</td> <td>    5.870</td> <td>   62.850</td>\n",
       "</tr>\n",
       "<tr>\n",
       "  <th>RACE_CODE_CD[T.BLK]</th>                                <td>-4391.1689</td> <td> 6713.887</td> <td>   -0.654</td> <td> 0.515</td> <td>-1.77e+04</td> <td> 8924.243</td>\n",
       "</tr>\n",
       "<tr>\n",
       "  <th>RACE_CODE_CD[T.I]</th>                                  <td> 4.193e-06</td> <td>  6.4e-06</td> <td>    0.655</td> <td> 0.514</td> <td> -8.5e-06</td> <td> 1.69e-05</td>\n",
       "</tr>\n",
       "<tr>\n",
       "  <th>RACE_CODE_CD[T.U]</th>                                  <td>   -0.0001</td> <td>    0.000</td> <td>   -0.655</td> <td> 0.514</td> <td>   -0.000</td> <td>    0.000</td>\n",
       "</tr>\n",
       "<tr>\n",
       "  <th>RACE_CODE_CD[T.WBH]</th>                                <td>-4408.4525</td> <td> 6714.641</td> <td>   -0.657</td> <td> 0.513</td> <td>-1.77e+04</td> <td> 8908.454</td>\n",
       "</tr>\n",
       "<tr>\n",
       "  <th>RACE_CODE_CD[T.WHI]</th>                                <td>-4396.4107</td> <td> 6711.902</td> <td>   -0.655</td> <td> 0.514</td> <td>-1.77e+04</td> <td> 8915.064</td>\n",
       "</tr>\n",
       "<tr>\n",
       "  <th>RACE_CODE_CD[T.WWH]</th>                                <td>-4389.0190</td> <td> 6713.250</td> <td>   -0.654</td> <td> 0.515</td> <td>-1.77e+04</td> <td> 8925.128</td>\n",
       "</tr>\n",
       "<tr>\n",
       "  <th>WEAPON_I[T.Y]</th>                                      <td>   -6.6268</td> <td>    3.335</td> <td>   -1.987</td> <td> 0.050</td> <td>  -13.241</td> <td>   -0.013</td>\n",
       "</tr>\n",
       "<tr>\n",
       "  <th>DRUG_I[T.Y]</th>                                        <td>    0.9917</td> <td>    2.989</td> <td>    0.332</td> <td> 0.741</td> <td>   -4.937</td> <td>    6.920</td>\n",
       "</tr>\n",
       "<tr>\n",
       "  <th>AGE_GROUP[T.30-40]</th>                                 <td>  -19.8660</td> <td>    7.937</td> <td>   -2.503</td> <td> 0.014</td> <td>  -35.607</td> <td>   -4.125</td>\n",
       "</tr>\n",
       "<tr>\n",
       "  <th>AGE_GROUP[T.40-50]</th>                                 <td>  -24.4890</td> <td>    1.263</td> <td>  -19.386</td> <td> 0.000</td> <td>  -26.994</td> <td>  -21.984</td>\n",
       "</tr>\n",
       "<tr>\n",
       "  <th>AGE_GROUP[T.50-60]</th>                                 <td>  -45.0249</td> <td>    2.691</td> <td>  -16.733</td> <td> 0.000</td> <td>  -50.361</td> <td>  -39.689</td>\n",
       "</tr>\n",
       "<tr>\n",
       "  <th>AGE_GROUP[T.60-70]</th>                                 <td> 9.618e-11</td> <td> 1.47e-10</td> <td>    0.655</td> <td> 0.514</td> <td>-1.95e-10</td> <td> 3.87e-10</td>\n",
       "</tr>\n",
       "<tr>\n",
       "  <th>AGE_GROUP[T.70-80]</th>                                 <td>-2.627e-10</td> <td> 4.01e-10</td> <td>   -0.655</td> <td> 0.514</td> <td>-1.06e-09</td> <td> 5.33e-10</td>\n",
       "</tr>\n",
       "<tr>\n",
       "  <th>AGE_GROUP[T.less than 20]</th>                          <td>   -0.9006</td> <td>    7.494</td> <td>   -0.120</td> <td> 0.905</td> <td>  -15.764</td> <td>   13.962</td>\n",
       "</tr>\n",
       "<tr>\n",
       "  <th>AGE_TO[T.30-40]</th>                                    <td>  -19.8660</td> <td>    7.937</td> <td>   -2.503</td> <td> 0.014</td> <td>  -35.607</td> <td>   -4.125</td>\n",
       "</tr>\n",
       "<tr>\n",
       "  <th>AGE_TO[T.40-50]</th>                                    <td>  -24.4890</td> <td>    1.263</td> <td>  -19.386</td> <td> 0.000</td> <td>  -26.994</td> <td>  -21.984</td>\n",
       "</tr>\n",
       "<tr>\n",
       "  <th>AGE_TO[T.50-60]</th>                                    <td>  -45.0249</td> <td>    2.691</td> <td>  -16.733</td> <td> 0.000</td> <td>  -50.361</td> <td>  -39.689</td>\n",
       "</tr>\n",
       "<tr>\n",
       "  <th>AGE_TO[T.60-70]</th>                                    <td>         0</td> <td>        0</td> <td>      nan</td> <td>   nan</td> <td>        0</td> <td>        0</td>\n",
       "</tr>\n",
       "<tr>\n",
       "  <th>AGE_TO[T.70-80]</th>                                    <td>         0</td> <td>        0</td> <td>      nan</td> <td>   nan</td> <td>        0</td> <td>        0</td>\n",
       "</tr>\n",
       "<tr>\n",
       "  <th>AGE_TO[T.less than 20]</th>                             <td>   -0.9006</td> <td>    7.494</td> <td>   -0.120</td> <td> 0.905</td> <td>  -15.764</td> <td>   13.962</td>\n",
       "</tr>\n",
       "<tr>\n",
       "  <th>PREDICTOR_RAT_VICTIM_SHOOTING_INCIDENTS</th>            <td>   20.0820</td> <td>    4.002</td> <td>    5.018</td> <td> 0.000</td> <td>   12.144</td> <td>   28.020</td>\n",
       "</tr>\n",
       "<tr>\n",
       "  <th>PREDICTOR_RAT_VICTIM_BATTERY_OR_ASSAULT</th>            <td>   38.4211</td> <td>    3.967</td> <td>    9.686</td> <td> 0.000</td> <td>   30.554</td> <td>   46.288</td>\n",
       "</tr>\n",
       "<tr>\n",
       "  <th>PREDICTOR_RAT_ARRESTS_VIOLENT_OFFENSES</th>             <td>   23.3164</td> <td>    2.835</td> <td>    8.225</td> <td> 0.000</td> <td>   17.694</td> <td>   28.938</td>\n",
       "</tr>\n",
       "<tr>\n",
       "  <th>PREDICTOR_RAT_GANG_AFFILIATION</th>                     <td>    9.6733</td> <td>    3.175</td> <td>    3.047</td> <td> 0.003</td> <td>    3.376</td> <td>   15.970</td>\n",
       "</tr>\n",
       "<tr>\n",
       "  <th>PREDICTOR_RAT_NARCOTIC_ARRESTS</th>                     <td>    3.4478</td> <td>    1.353</td> <td>    2.547</td> <td> 0.012</td> <td>    0.763</td> <td>    6.132</td>\n",
       "</tr>\n",
       "<tr>\n",
       "  <th>PREDICTOR_RAT_TREND_IN_CRIMINAL_ACTIVITY</th>           <td>   13.7606</td> <td>    2.140</td> <td>    6.431</td> <td> 0.000</td> <td>    9.517</td> <td>   18.004</td>\n",
       "</tr>\n",
       "<tr>\n",
       "  <th>PREDICTOR_RAT_UUW_ARRESTS</th>                          <td>    9.2591</td> <td>    3.452</td> <td>    2.682</td> <td> 0.009</td> <td>    2.413</td> <td>   16.105</td>\n",
       "</tr>\n",
       "<tr>\n",
       "  <th>STOP_ORDER_NO</th>                                      <td> 6.427e-05</td> <td>    0.000</td> <td>    0.576</td> <td> 0.566</td> <td>   -0.000</td> <td>    0.000</td>\n",
       "</tr>\n",
       "<tr>\n",
       "  <th>LATEST_DATE</th>                                        <td>    1.4777</td> <td>    1.010</td> <td>    1.462</td> <td> 0.147</td> <td>   -0.526</td> <td>    3.482</td>\n",
       "</tr>\n",
       "<tr>\n",
       "  <th>LATEST_DIST</th>                                        <td>    0.0430</td> <td>    0.217</td> <td>    0.198</td> <td> 0.843</td> <td>   -0.387</td> <td>    0.472</td>\n",
       "</tr>\n",
       "<tr>\n",
       "  <th>MAJORITY_DIST</th>                                      <td>    0.1428</td> <td>    0.241</td> <td>    0.592</td> <td> 0.555</td> <td>   -0.336</td> <td>    0.621</td>\n",
       "</tr>\n",
       "</table>\n",
       "<table class=\"simpletable\">\n",
       "<tr>\n",
       "  <th>Omnibus:</th>       <td> 1.746</td> <th>  Durbin-Watson:     </th> <td>   1.997</td>\n",
       "</tr>\n",
       "<tr>\n",
       "  <th>Prob(Omnibus):</th> <td> 0.418</td> <th>  Jarque-Bera (JB):  </th> <td>   1.806</td>\n",
       "</tr>\n",
       "<tr>\n",
       "  <th>Skew:</th>          <td>-0.247</td> <th>  Prob(JB):          </th> <td>   0.405</td>\n",
       "</tr>\n",
       "<tr>\n",
       "  <th>Kurtosis:</th>      <td> 2.691</td> <th>  Cond. No.          </th> <td>1.00e+16</td>\n",
       "</tr>\n",
       "</table>"
      ],
      "text/plain": [
       "<class 'statsmodels.iolib.summary.Summary'>\n",
       "\"\"\"\n",
       "                            OLS Regression Results                            \n",
       "==============================================================================\n",
       "Dep. Variable:              SSL_SCORE   R-squared:                       0.962\n",
       "Model:                            OLS   Adj. R-squared:                  0.953\n",
       "Method:                 Least Squares   F-statistic:                     109.1\n",
       "Date:                Fri, 12 Oct 2018   Prob (F-statistic):           2.19e-62\n",
       "Time:                        10:28:10   Log-Likelihood:                -484.82\n",
       "No. Observations:                 128   AIC:                             1020.\n",
       "Df Residuals:                     103   BIC:                             1091.\n",
       "Df Model:                          24                                         \n",
       "Covariance Type:            nonrobust                                         \n",
       "======================================================================================================================\n",
       "                                                         coef    std err          t      P>|t|      [0.025      0.975]\n",
       "----------------------------------------------------------------------------------------------------------------------\n",
       "Intercept                                          -1.758e+04   2.69e+04     -0.655      0.514   -7.08e+04    3.57e+04\n",
       "PREDICTOR_RAT_AGE_AT_LATEST_ARREST[T.30-40]           -0.0045     16.040     -0.000      1.000     -31.816      31.807\n",
       "PREDICTOR_RAT_AGE_AT_LATEST_ARREST[T.40-50]          -24.4892      1.263    -19.386      0.000     -26.995     -21.984\n",
       "PREDICTOR_RAT_AGE_AT_LATEST_ARREST[T.50-60]          -45.0248      2.691    -16.734      0.000     -50.361     -39.688\n",
       "PREDICTOR_RAT_AGE_AT_LATEST_ARREST[T.60-70]        -8.725e-05      0.000     -0.655      0.514      -0.000       0.000\n",
       "PREDICTOR_RAT_AGE_AT_LATEST_ARREST[T.70-80]         8.966e-05      0.000      0.655      0.514      -0.000       0.000\n",
       "PREDICTOR_RAT_AGE_AT_LATEST_ARREST[T.less than 20]    23.8795     14.177      1.684      0.095      -4.236      51.995\n",
       "SEX_CODE_CD[T.M]                                      16.0655      6.686      2.403      0.018       2.805      29.326\n",
       "SEX_CODE_CD[T.X]                                      34.3601     14.365      2.392      0.019       5.870      62.850\n",
       "RACE_CODE_CD[T.BLK]                                -4391.1689   6713.887     -0.654      0.515   -1.77e+04    8924.243\n",
       "RACE_CODE_CD[T.I]                                   4.193e-06    6.4e-06      0.655      0.514    -8.5e-06    1.69e-05\n",
       "RACE_CODE_CD[T.U]                                     -0.0001      0.000     -0.655      0.514      -0.000       0.000\n",
       "RACE_CODE_CD[T.WBH]                                -4408.4525   6714.641     -0.657      0.513   -1.77e+04    8908.454\n",
       "RACE_CODE_CD[T.WHI]                                -4396.4107   6711.902     -0.655      0.514   -1.77e+04    8915.064\n",
       "RACE_CODE_CD[T.WWH]                                -4389.0190   6713.250     -0.654      0.515   -1.77e+04    8925.128\n",
       "WEAPON_I[T.Y]                                         -6.6268      3.335     -1.987      0.050     -13.241      -0.013\n",
       "DRUG_I[T.Y]                                            0.9917      2.989      0.332      0.741      -4.937       6.920\n",
       "AGE_GROUP[T.30-40]                                   -19.8660      7.937     -2.503      0.014     -35.607      -4.125\n",
       "AGE_GROUP[T.40-50]                                   -24.4890      1.263    -19.386      0.000     -26.994     -21.984\n",
       "AGE_GROUP[T.50-60]                                   -45.0249      2.691    -16.733      0.000     -50.361     -39.689\n",
       "AGE_GROUP[T.60-70]                                  9.618e-11   1.47e-10      0.655      0.514   -1.95e-10    3.87e-10\n",
       "AGE_GROUP[T.70-80]                                 -2.627e-10   4.01e-10     -0.655      0.514   -1.06e-09    5.33e-10\n",
       "AGE_GROUP[T.less than 20]                             -0.9006      7.494     -0.120      0.905     -15.764      13.962\n",
       "AGE_TO[T.30-40]                                      -19.8660      7.937     -2.503      0.014     -35.607      -4.125\n",
       "AGE_TO[T.40-50]                                      -24.4890      1.263    -19.386      0.000     -26.994     -21.984\n",
       "AGE_TO[T.50-60]                                      -45.0249      2.691    -16.733      0.000     -50.361     -39.689\n",
       "AGE_TO[T.60-70]                                             0          0        nan        nan           0           0\n",
       "AGE_TO[T.70-80]                                             0          0        nan        nan           0           0\n",
       "AGE_TO[T.less than 20]                                -0.9006      7.494     -0.120      0.905     -15.764      13.962\n",
       "PREDICTOR_RAT_VICTIM_SHOOTING_INCIDENTS               20.0820      4.002      5.018      0.000      12.144      28.020\n",
       "PREDICTOR_RAT_VICTIM_BATTERY_OR_ASSAULT               38.4211      3.967      9.686      0.000      30.554      46.288\n",
       "PREDICTOR_RAT_ARRESTS_VIOLENT_OFFENSES                23.3164      2.835      8.225      0.000      17.694      28.938\n",
       "PREDICTOR_RAT_GANG_AFFILIATION                         9.6733      3.175      3.047      0.003       3.376      15.970\n",
       "PREDICTOR_RAT_NARCOTIC_ARRESTS                         3.4478      1.353      2.547      0.012       0.763       6.132\n",
       "PREDICTOR_RAT_TREND_IN_CRIMINAL_ACTIVITY              13.7606      2.140      6.431      0.000       9.517      18.004\n",
       "PREDICTOR_RAT_UUW_ARRESTS                              9.2591      3.452      2.682      0.009       2.413      16.105\n",
       "STOP_ORDER_NO                                       6.427e-05      0.000      0.576      0.566      -0.000       0.000\n",
       "LATEST_DATE                                            1.4777      1.010      1.462      0.147      -0.526       3.482\n",
       "LATEST_DIST                                            0.0430      0.217      0.198      0.843      -0.387       0.472\n",
       "MAJORITY_DIST                                          0.1428      0.241      0.592      0.555      -0.336       0.621\n",
       "==============================================================================\n",
       "Omnibus:                        1.746   Durbin-Watson:                   1.997\n",
       "Prob(Omnibus):                  0.418   Jarque-Bera (JB):                1.806\n",
       "Skew:                          -0.247   Prob(JB):                        0.405\n",
       "Kurtosis:                       2.691   Cond. No.                     1.00e+16\n",
       "==============================================================================\n",
       "\n",
       "Warnings:\n",
       "[1] Standard Errors assume that the covariance matrix of the errors is correctly specified.\n",
       "[2] The smallest eigenvalue is 1.15e-13. This might indicate that there are\n",
       "strong multicollinearity problems or that the design matrix is singular.\n",
       "\"\"\""
      ]
     },
     "execution_count": 96,
     "metadata": {},
     "output_type": "execute_result"
    }
   ],
   "source": [
    "result.summary()"
   ]
  },
  {
   "cell_type": "code",
   "execution_count": 97,
   "metadata": {},
   "outputs": [
    {
     "name": "stdout",
     "output_type": "stream",
     "text": [
      "<class 'pandas.core.frame.DataFrame'>\n",
      "Int64Index: 297591 entries, 0 to 398683\n",
      "Data columns (total 48 columns):\n",
      "SSL_SCORE                                   297591 non-null int64\n",
      "PREDICTOR_RAT_AGE_AT_LATEST_ARREST          297549 non-null object\n",
      "PREDICTOR_RAT_VICTIM_SHOOTING_INCIDENTS     297591 non-null int64\n",
      "PREDICTOR_RAT_VICTIM_BATTERY_OR_ASSAULT     297591 non-null int64\n",
      "PREDICTOR_RAT_ARRESTS_VIOLENT_OFFENSES      297591 non-null int64\n",
      "PREDICTOR_RAT_GANG_AFFILIATION              297591 non-null int64\n",
      "PREDICTOR_RAT_NARCOTIC_ARRESTS              297591 non-null int64\n",
      "PREDICTOR_RAT_TREND_IN_CRIMINAL_ACTIVITY    297591 non-null float64\n",
      "PREDICTOR_RAT_UUW_ARRESTS                   297591 non-null int64\n",
      "SEX_CODE_CD                                 297591 non-null object\n",
      "RACE_CODE_CD                                297591 non-null object\n",
      "WEAPON_I                                    297591 non-null object\n",
      "DRUG_I                                      297591 non-null object\n",
      "AGE_GROUP                                   297500 non-null object\n",
      "AGE_TO                                      297500 non-null object\n",
      "STOP_ORDER_NO                               1657 non-null float64\n",
      "PAROLEE_I                                   13084 non-null object\n",
      "LATEST_DATE                                 297591 non-null int64\n",
      "LATEST_DIST                                 297591 non-null int64\n",
      "MAJORITY_DIST                               252660 non-null float64\n",
      "DLST                                        58956 non-null object\n",
      "LATEST_DIST_RES                             297591 non-null int64\n",
      "WEAPONS_ARR_CNT                             19145 non-null float64\n",
      "LATEST_WEAPON_ARR_DATE                      19145 non-null float64\n",
      "NARCOTICS_ARR_CNT                           92806 non-null float64\n",
      "LATEST_NARCOTIC_ARR_DATE                    92806 non-null float64\n",
      "IDOC_RES_CITY                               58943 non-null object\n",
      "IDOC_RES_STATE_CODE                         58945 non-null object\n",
      "IDOC_RES_ZIP_CODE                           58267 non-null float64\n",
      "IDOC_CPD_DIST                               11222 non-null float64\n",
      "CPD_ARREST_I                                297591 non-null object\n",
      "DOMESTIC_ARR_CNT                            68117 non-null float64\n",
      "LATEST_DOMESTIC_ARR_DATE                    68117 non-null float64\n",
      "AGE_CURR                                    297453 non-null object\n",
      "SSL_LAST_PTV_DATE                           14194 non-null float64\n",
      "TRAP_STATUS                                 3118 non-null float64\n",
      "RAW_SSL_SCORE                               297591 non-null float64\n",
      "HEAT_SCORE                                  297591 non-null int64\n",
      "RAW_HEAT_SCORE                              297591 non-null float64\n",
      "STATUS_I                                    297591 non-null object\n",
      "PRE_RAW_HEAT_SCORE                          297591 non-null int64\n",
      "TRAP_FLAGS                                  105 non-null float64\n",
      "SSL_FLAGS                                   448 non-null float64\n",
      "LATITUDE                                    224232 non-null float64\n",
      "LONGITUDE                                   224232 non-null float64\n",
      "CENSUS_TRACT                                227760 non-null float64\n",
      "COMMUNITY_AREA                              297591 non-null object\n",
      "LOCATION                                    224232 non-null object\n",
      "dtypes: float64(20), int64(12), object(16)\n",
      "memory usage: 111.3+ MB\n"
     ]
    }
   ],
   "source": [
    "df.info()"
   ]
  },
  {
   "cell_type": "code",
   "execution_count": null,
   "metadata": {},
   "outputs": [],
   "source": []
  },
  {
   "cell_type": "code",
   "execution_count": null,
   "metadata": {},
   "outputs": [],
   "source": []
  },
  {
   "cell_type": "code",
   "execution_count": null,
   "metadata": {},
   "outputs": [],
   "source": []
  }
 ],
 "metadata": {
  "kernelspec": {
   "display_name": "Python 3",
   "language": "python",
   "name": "python3"
  },
  "language_info": {
   "codemirror_mode": {
    "name": "ipython",
    "version": 3
   },
   "file_extension": ".py",
   "mimetype": "text/x-python",
   "name": "python",
   "nbconvert_exporter": "python",
   "pygments_lexer": "ipython3",
   "version": "3.6.4"
  }
 },
 "nbformat": 4,
 "nbformat_minor": 2
}
